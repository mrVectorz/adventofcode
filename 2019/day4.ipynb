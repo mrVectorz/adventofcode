{
 "cells": [
  {
   "cell_type": "code",
   "execution_count": 10,
   "metadata": {},
   "outputs": [
    {
     "name": "stdout",
     "output_type": "stream",
     "text": [
      "['136760', '595730']\n"
     ]
    }
   ],
   "source": [
    "with open('day_4_input.txt') as f:\n",
    "  data = f.readline().strip().split('-')\n",
    "print(data)"
   ]
  },
  {
   "cell_type": "code",
   "execution_count": 65,
   "metadata": {},
   "outputs": [
    {
     "name": "stdout",
     "output_type": "stream",
     "text": [
      "p1: 1873\n",
      "p2: 1264\n"
     ]
    }
   ],
   "source": [
    "def is_growing_num(x):\n",
    "    a = 0\n",
    "    for i in x:\n",
    "        i = int(i)\n",
    "        if i < a:\n",
    "            return False\n",
    "        elif i >= a:\n",
    "            a = i\n",
    "    return True\n",
    "\n",
    "count_one = 0\n",
    "count_two = 0\n",
    "# range would only allow 6d integers\n",
    "for num in range(int(data[0]), int(data[1])+1):\n",
    "    s_num = str(num)\n",
    "    doubles = [(x in s_num) for x in [str(i)*2 for i in range(0, 10)]].count(True)\n",
    "    if doubles >= 1:\n",
    "        #const growth from left to right\n",
    "        if is_growing_num(s_num):\n",
    "            count_one += 1\n",
    "            triples = [(x in s_num) for x in [str(i)*3 for i in range(0, 10)]].count(True)\n",
    "            if doubles > triples:\n",
    "                count_two += 1\n",
    "\n",
    "print(\"p1: {}\\np2: {}\".format(count_one, count_two))"
   ]
  },
  {
   "cell_type": "code",
   "execution_count": 59,
   "metadata": {},
   "outputs": [
    {
     "data": {
      "text/plain": [
       "['000', '111', '222', '333', '444', '555', '666', '777', '888', '999']"
      ]
     },
     "execution_count": 59,
     "metadata": {},
     "output_type": "execute_result"
    }
   ],
   "source": [
    "[x for x in [str(i)+str(i)+str(i) for i in range(0, 10)]]"
   ]
  }
 ],
 "metadata": {
  "kernelspec": {
   "display_name": "Python 3",
   "language": "python",
   "name": "python3"
  },
  "language_info": {
   "codemirror_mode": {
    "name": "ipython",
    "version": 3
   },
   "file_extension": ".py",
   "mimetype": "text/x-python",
   "name": "python",
   "nbconvert_exporter": "python",
   "pygments_lexer": "ipython3",
   "version": "3.7.5"
  }
 },
 "nbformat": 4,
 "nbformat_minor": 2
}
