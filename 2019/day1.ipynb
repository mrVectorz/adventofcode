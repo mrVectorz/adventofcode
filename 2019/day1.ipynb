{
 "cells": [
  {
   "cell_type": "code",
   "execution_count": 49,
   "metadata": {
    "scrolled": true
   },
   "outputs": [
    {
     "name": "stdout",
     "output_type": "stream",
     "text": [
      "[120588, 137636, 114877, 118328, 97394, 58497, 139343, 80307, 125063, 70956, 119676, 76115, 91916, 64618, 82881, 57000, 141785, 73460, 68992, 125701, 97839, 137800, 111051, 104591, 114396, 60210, 80238, 112009, 70265, 140582, 58765, 96848, 130438, 55615, 53903, 109361, 129512, 75888, 93231, 54697, 125320, 53614, 87173, 71762, 147739, 131840, 123979, 54434, 121517, 113518, 83544, 124924, 76608, 130483, 149285, 134147, 111589, 88174, 136392, 94448, 139244, 54064, 85110, 102985, 95646, 54649, 129755, 135795, 119653, 147633, 108386, 143180, 126587, 119273, 130579, 56006, 83232, 99948, 147711, 83092, 99706, 98697, 143231, 94526, 53102, 86002, 71413, 111054, 147220, 136504, 59308, 61123, 148771, 113986, 55483, 94426, 62791, 100959, 63604, 112511]\n"
     ]
    }
   ],
   "source": [
    "with open('day_1_input.txt') as f:\n",
    "    data = [int(i.strip()) for i in f.readlines()]\n",
    "print(data)"
   ]
  },
  {
   "cell_type": "code",
   "execution_count": 50,
   "metadata": {},
   "outputs": [
    {
     "name": "stdout",
     "output_type": "stream",
     "text": [
      "3363033\n"
     ]
    }
   ],
   "source": [
    "total_fuel = 0\n",
    "for module in data:\n",
    "    total_fuel += int((int(module)/3)-2)\n",
    "\n",
    "print(total_fuel)"
   ]
  },
  {
   "cell_type": "code",
   "execution_count": 81,
   "metadata": {},
   "outputs": [
    {
     "name": "stdout",
     "output_type": "stream",
     "text": [
      "Total Mass: 10089807\n",
      "5041680\n",
      "2.00127874041986\n"
     ]
    }
   ],
   "source": [
    "total_mass = sum(data)\n",
    "print(\"Total Mass: {}\".format(total_mass))\n",
    "\n",
    "\n",
    "def fuel_calc(mass):\n",
    "    total = int((mass/3)-2)\n",
    "    current = total\n",
    "    while (current//3)-2 > 0:\n",
    "        current = int((current/3)-2)\n",
    "        total += current\n",
    "    return total\n",
    "\n",
    "\n",
    "total_fuel_mass = 0\n",
    "for module in data:\n",
    "    total_fuel_mass += fuel_calc(module)\n",
    "\n",
    "print(total_fuel_mass)\n",
    "print(total_mass/total_fuel_mass)"
   ]
  },
  {
   "cell_type": "code",
   "execution_count": null,
   "metadata": {},
   "outputs": [],
   "source": []
  }
 ],
 "metadata": {
  "kernelspec": {
   "display_name": "Python 3",
   "language": "python",
   "name": "python3"
  },
  "language_info": {
   "codemirror_mode": {
    "name": "ipython",
    "version": 3
   },
   "file_extension": ".py",
   "mimetype": "text/x-python",
   "name": "python",
   "nbconvert_exporter": "python",
   "pygments_lexer": "ipython3",
   "version": "3.7.5"
  }
 },
 "nbformat": 4,
 "nbformat_minor": 2
}
