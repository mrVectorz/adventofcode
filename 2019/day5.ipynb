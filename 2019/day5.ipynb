{
 "cells": [
  {
   "cell_type": "code",
   "execution_count": 8,
   "metadata": {
    "ExecuteTime": {
     "end_time": "2019-12-07T15:45:46.999422Z",
     "start_time": "2019-12-07T15:45:45.169750Z"
    }
   },
   "outputs": [
    {
     "name": "stdout",
     "output_type": "stream",
     "text": [
      "OPC 3 - Input a number: 5\n",
      "9386583\n"
     ]
    }
   ],
   "source": [
    "opc_dict = {1:4, 2:4, 3:2, 4:2, 5:3, 6:3, 7:4, 8:4}\n",
    "\n",
    "def decode(instruction):\n",
    "    a = str(instruction)\n",
    "    b = [int(a[-2:])]\n",
    "    for d in a[-3::-1]:\n",
    "        b.append(int(d))\n",
    "    b.extend([0,0,0])\n",
    "    return b\n",
    "\n",
    "def compute(opcodes):\n",
    "    action = lambda opc, mode: data[opc] if (mode == 0) else (opc if mode == 1 else \"ERROR\")\n",
    "    x = 0\n",
    "    while x <= len(opcodes):\n",
    "        istr = decode(opcodes[x])\n",
    "        opc = istr[0]\n",
    "        #print(\"opc: {} decoded: {}\".format(opc, istr))\n",
    "        if opc == 99:\n",
    "            return\n",
    "        elif opc == 1:\n",
    "            opcodes[opcodes[x+3]] = action(opcodes[x+1], istr[1]) + action(opcodes[x+2], istr[2])\n",
    "        elif opc == 2:\n",
    "            opcodes[opcodes[x+3]] = action(opcodes[x+1], istr[1]) * action(opcodes[x+2], istr[2])\n",
    "        elif opc == 3:\n",
    "            opcodes[opcodes[x+1]] = int(input(\"OPC 3 - Input a number: \"))\n",
    "        elif opc == 4:\n",
    "            print(action(opcodes[x+1], istr[1]))\n",
    "        elif opc == 5:\n",
    "            if action(opcodes[x+1], istr[1]) != 0:\n",
    "                x = action(opcodes[x+2], istr[2])\n",
    "                continue\n",
    "        elif opc == 6:\n",
    "            if action(opcodes[x+1], istr[1]) == 0:\n",
    "                x = action(opcodes[x+2], istr[2])\n",
    "                continue\n",
    "        elif opc == 7:\n",
    "            if action(opcodes[x+1], istr[1]) < action(opcodes[x+2], istr[2]):\n",
    "                opcodes[opcodes[x+3]] = 1\n",
    "            else:\n",
    "                opcodes[opcodes[x+3]] = 0\n",
    "        elif opc == 8:\n",
    "            if action(opcodes[x+1], istr[1]) == action(opcodes[x+2], istr[2]):\n",
    "                opcodes[opcodes[x+3]] = 1\n",
    "            else:\n",
    "                opcodes[opcodes[x+3]] = 0\n",
    "        x += opc_dict[opc]\n",
    "\n",
    "data = [int(x) for x in open('day_5_input.txt').read().split(',')]\n",
    "compute(data)\n",
    "\n",
    "#16489636\n",
    "#9386583"
   ]
  },
  {
   "cell_type": "code",
   "execution_count": null,
   "metadata": {},
   "outputs": [],
   "source": []
  }
 ],
 "metadata": {
  "kernelspec": {
   "display_name": "Python 3",
   "language": "python",
   "name": "python3"
  },
  "language_info": {
   "codemirror_mode": {
    "name": "ipython",
    "version": 3
   },
   "file_extension": ".py",
   "mimetype": "text/x-python",
   "name": "python",
   "nbconvert_exporter": "python",
   "pygments_lexer": "ipython3",
   "version": "3.7.5"
  }
 },
 "nbformat": 4,
 "nbformat_minor": 2
}
