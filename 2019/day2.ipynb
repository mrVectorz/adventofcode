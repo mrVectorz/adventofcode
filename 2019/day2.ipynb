{
 "cells": [
  {
   "cell_type": "code",
   "execution_count": 2,
   "metadata": {},
   "outputs": [
    {
     "name": "stdout",
     "output_type": "stream",
     "text": [
      "[1, 0, 0, 3, 1, 1, 2, 3, 1, 3, 4, 3, 1, 5, 0, 3, 2, 10, 1, 19, 2, 19, 6, 23, 2, 13, 23, 27, 1, 9, 27, 31, 2, 31, 9, 35, 1, 6, 35, 39, 2, 10, 39, 43, 1, 5, 43, 47, 1, 5, 47, 51, 2, 51, 6, 55, 2, 10, 55, 59, 1, 59, 9, 63, 2, 13, 63, 67, 1, 10, 67, 71, 1, 71, 5, 75, 1, 75, 6, 79, 1, 10, 79, 83, 1, 5, 83, 87, 1, 5, 87, 91, 2, 91, 6, 95, 2, 6, 95, 99, 2, 10, 99, 103, 1, 103, 5, 107, 1, 2, 107, 111, 1, 6, 111, 0, 99, 2, 14, 0, 0]\n"
     ]
    }
   ],
   "source": [
    "with open('day_2_input.txt') as f:\n",
    "    data = [int(i) for i in f.readline().strip().split(',')]\n",
    "print(data)"
   ]
  },
  {
   "cell_type": "code",
   "execution_count": 3,
   "metadata": {},
   "outputs": [
    {
     "name": "stdout",
     "output_type": "stream",
     "text": [
      "noun: 64, verb: 29\n",
      "[19690720, 64, 29, 2, 1, 1, 2, 3, 1, 3, 4, 3, 1, 5, 0, 3, 2, 10, 1, 256, 2, 19, 6, 512, 2, 13, 23, 2560, 1, 9, 27, 2563, 2, 31, 9, 7689, 1, 6, 35, 7691, 2, 10, 39, 30764, 1, 5, 43, 30765, 1, 5, 47, 30766, 2, 51, 6, 61532, 2, 10, 55, 246128, 1, 59, 9, 246131, 2, 13, 63, 1230655, 1, 10, 67, 1230659, 1, 71, 5, 1230660, 1, 75, 6, 1230662, 1, 10, 79, 1230666, 1, 5, 83, 1230667, 1, 5, 87, 1230668, 2, 91, 6, 2461336, 2, 6, 95, 4922672, 2, 10, 99, 19690688, 1, 103, 5, 19690689, 1, 2, 107, 19690718, 1, 6, 111, 0, 99, 2, 14, 0, 0]\n"
     ]
    }
   ],
   "source": [
    "example = [1, 9, 10, 3, 2, 3, 11, 0, 99, 30, 40, 50]\n",
    "\n",
    "# gravity fix part1\n",
    "#data[1] = 12\n",
    "#data[2] = 2\n",
    "\n",
    "\n",
    "def compute(data, fix=[(1, 12), (2, 2)]):\n",
    "    array = data.copy()\n",
    "    if type(fix) == list:\n",
    "        for i in fix:\n",
    "            array[i[0]] = i[1]\n",
    "    counter = 0\n",
    "    while counter <= len(array):\n",
    "        #print('opcode: {} address: {}'.format(array[counter], counter))\n",
    "        input_one = array[counter+1]\n",
    "        input_two = array[counter+2]\n",
    "        output = array[counter+3]\n",
    "        if array[counter] == 1:\n",
    "            s = array[input_one] + array[input_two]\n",
    "            array[output] = s\n",
    "            counter += 4\n",
    "        elif array[counter] == 2:\n",
    "            s = array[input_one] * array[input_two]\n",
    "            array[output] = s\n",
    "            counter += 4\n",
    "        elif array[counter] == 99:\n",
    "            # print(\"99\")\n",
    "            break\n",
    "        else:\n",
    "            print(\"ERROR: opcode {}\".format(array[counter]))\n",
    "            break\n",
    "    return array\n",
    "\n",
    "\n",
    "#print(compute(example, fix=\"\"))\n",
    "for noun in range(100):\n",
    "    for verb in range(100):\n",
    "        t = compute(data, fix=[(1, noun), (2, verb)])\n",
    "        if t[0] == 19690720:\n",
    "            print(\"noun: {}, verb: {}\".format(noun, verb))\n",
    "            print(t)\n",
    "            break\n",
    "# print(compute(data))"
   ]
  }
 ],
 "metadata": {
  "kernelspec": {
   "display_name": "Python 3",
   "language": "python",
   "name": "python3"
  },
  "language_info": {
   "codemirror_mode": {
    "name": "ipython",
    "version": 3
   },
   "file_extension": ".py",
   "mimetype": "text/x-python",
   "name": "python",
   "nbconvert_exporter": "python",
   "pygments_lexer": "ipython3",
   "version": "3.7.5"
  }
 },
 "nbformat": 4,
 "nbformat_minor": 2
}
