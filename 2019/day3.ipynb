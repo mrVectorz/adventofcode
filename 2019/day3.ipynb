{
 "cells": [
  {
   "cell_type": "code",
   "execution_count": 9,
   "metadata": {},
   "outputs": [
    {
     "name": "stdout",
     "output_type": "stream",
     "text": [
      "['R1004', 'U518', 'R309', 'D991', 'R436', 'D360', 'L322', 'U627', 'R94', 'D636', 'L846', 'D385', 'R563', 'U220', 'L312', 'D605', 'L612', 'D843', 'R848', 'U193', 'L671', 'D852', 'L129', 'D680', 'L946', 'D261', 'L804', 'D482', 'R196', 'U960', 'L234', 'U577', 'R206', 'D973', 'R407', 'D400', 'R44', 'D103', 'R463', 'U907', 'L972', 'U628', 'L962', 'U856', 'L564', 'D25', 'L425', 'U332', 'R931', 'U837', 'R556', 'U435', 'R88', 'U860', 'L982', 'D393', 'R793', 'D86', 'R647', 'D337', 'R514', 'D361', 'L777', 'U640', 'R833', 'D674', 'L817', 'D260', 'R382', 'U168', 'R161', 'U449', 'L670', 'U814', 'L42', 'U461', 'R570', 'U855', 'L111', 'U734', 'L699', 'U602', 'R628', 'D79', 'L982', 'D494', 'L616', 'D484', 'R259', 'U429', 'L917', 'D321', 'R429', 'U854', 'R735', 'D373', 'L508', 'D59', 'L207', 'D192', 'L120', 'D943', 'R648', 'U245', 'L670', 'D571', 'L46', 'D195', 'L989', 'U589', 'L34', 'D177', 'L682', 'U468', 'L783', 'D143', 'L940', 'U412', 'R875', 'D604', 'R867', 'D951', 'L82', 'U851', 'L550', 'D21', 'L425', 'D81', 'L659', 'D231', 'R92', 'D232', 'R27', 'D269', 'L351', 'D369', 'R622', 'U737', 'R531', 'U693', 'R295', 'U217', 'R249', 'U994', 'R635', 'U267', 'L863', 'U690', 'L398', 'U576', 'R982', 'U252', 'L649', 'U321', 'L814', 'U516', 'R827', 'U74', 'L80', 'U624', 'L802', 'D620', 'L544', 'U249', 'R983', 'U424', 'R564', 'D217', 'R151', 'U8', 'L813', 'D311', 'R203', 'U478', 'R999', 'U495', 'R957', 'U641', 'R40', 'U431', 'L830', 'U67', 'L31', 'U532', 'R345', 'U878', 'L996', 'D223', 'L76', 'D264', 'R823', 'U27', 'L776', 'U936', 'L614', 'U421', 'L398', 'U168', 'L90', 'U525', 'R640', 'U95', 'L761', 'U938', 'R296', 'D463', 'L349', 'D709', 'R428', 'U818', 'L376', 'D444', 'L748', 'D527', 'L755', 'U750', 'R175', 'U495', 'R587', 'D767', 'L332', 'U665', 'L84', 'D747', 'L183', 'D969', 'R37', 'D514', 'R949', 'U985', 'R548', 'U939', 'L170', 'U415', 'R857', 'D480', 'R836', 'D363', 'R763', 'D997', 'R721', 'D140', 'R699', 'U673', 'L724', 'U375', 'R55', 'U758', 'R634', 'D590', 'L608', 'U674', 'R809', 'U308', 'L681', 'D957', 'R30', 'D913', 'L633', 'D939', 'L474', 'D567', 'R290', 'D615', 'L646', 'D478', 'L822', 'D471', 'L952', 'D937', 'R306', 'U380', 'R695', 'U788', 'R555', 'D64', 'R769', 'D785', 'R115', 'U474', 'R232', 'U353', 'R534', 'D268', 'L434', 'U790', 'L777', 'D223', 'L168', 'U21', 'L411', 'D524', 'R862', 'D43', 'L979', 'U65', 'R771', 'U872', 'L983', 'U765', 'R162']\n"
     ]
    }
   ],
   "source": [
    "with open('day_3_input.txt') as f:\n",
    "  data = [ i.strip().split(',') for i in f.readlines()]\n",
    "#print(data[0])\n",
    "\n",
    "example0 = [['R75','D30','R83','U83','L12','D49','R71','U7','L72'],['U62','R66','U55','R34','D71','R55','D58','R83']]"
   ]
  },
  {
   "cell_type": "code",
   "execution_count": null,
   "metadata": {},
   "outputs": [],
   "source": [
    "### APPARENT GARBAGE\n",
    "\"\"\"\n",
    "class wiring_beta():\n",
    "    def __init__(self, operations):\n",
    "        self.grid = [ ['.' for x in range(1000)] for y in range(1000) ]\n",
    "        # central port in the middle\n",
    "        self.mid = int(len(self.grid)/2)\n",
    "        self.grid[self.mid][self.mid] = \"O\"\n",
    "        self.collisions = []\n",
    "        wire_count = 1\n",
    "        for i in operations:\n",
    "            self.route_wire(i, wire_count)\n",
    "            wire_count += 1\n",
    "    def route_wire(self, pathing, wire_num):\n",
    "        cur_position = [self.mid, self.mid] #x,y\n",
    "        panel = self.grid\n",
    "        writer = lambda a,b: a if (a == b or b == '.' or b == \"O\") else 'X'\n",
    "        checker = lambda a,b: False if (a == b or b == '.' or b == \"O\") else True\n",
    "        for i in pathing:\n",
    "            c_value = panel[cur_position[1]][cur_position[0]]\n",
    "            if i[0] == 'R':\n",
    "                for dist in range(int(i[1:])):\n",
    "                    #panel[cur_position[1]][cur_position[0]] = writer(wire_num, c_value)\n",
    "                    if checker(wire_num, c_value):\n",
    "                        #print(wire_num)\n",
    "                        panel[cur_position[1]][cur_position[0]] = wire_num\n",
    "                        #print(panel[cur_position[1]][cur_position[0]])\n",
    "                    else:\n",
    "                        panel[cur_position[1]][cur_position[0]] = 'X'\n",
    "                        self.collisions.append(cur_position)\n",
    "                    cur_position[0] = cur_position[0]+1\n",
    "            elif i[0] == 'L':\n",
    "                for dist in range(int(i[1:])):\n",
    "                    panel[cur_position[1]][cur_position[0]] = writer(wire_num, c_value)\n",
    "                    cur_position[0] = cur_position[0]-1\n",
    "            elif i[0] == 'U':\n",
    "                for dist in range(int(i[1:])):\n",
    "                    panel[cur_position[1]][cur_position[0]] = writer(wire_num, c_value)\n",
    "                    cur_position[1] = cur_position[1]+1\n",
    "            elif i[0] == 'D':\n",
    "                for dist in range(int(i[1:])):\n",
    "                    panel[cur_position[1]][cur_position[0]] = writer(wire_num, c_value)\n",
    "                    cur_position[1] = cur_position[1]-1\n",
    "    def dump_grid(self):\n",
    "        print(self.grid)\n",
    "    def dump_collisions(self):\n",
    "        print(self.collisions)\n",
    "\n",
    "#test0 = wiring(example0)\n",
    "#print(test0.grid[499])\n",
    "#for i in test0.grid:\n",
    "#    if i.count('X') > 0:\n",
    "#        print(i)\n",
    "#test0.dump_collisions()\n",
    "\"\"\""
   ]
  },
  {
   "cell_type": "code",
   "execution_count": 34,
   "metadata": {},
   "outputs": [
    {
     "name": "stdout",
     "output_type": "stream",
     "text": [
      "Distance: 170\n",
      "Point: (158, -12)\n"
     ]
    }
   ],
   "source": [
    "## ATTEMPT2\n",
    "\n",
    "class wiring():\n",
    "    def __init__(self, operations):\n",
    "        self.routes = []\n",
    "        wire_count = 0\n",
    "        for i in operations:\n",
    "            self.routes.append(self.route_wire(i, wire_count))\n",
    "            wire_count += 1\n",
    "        self.collisions = self.get_collisions(self.routes)\n",
    "    def route_wire(self, pathing, wire_num):\n",
    "        cur_position = [0,0] #x,y\n",
    "        route = []\n",
    "        for i in pathing:\n",
    "            if i[0] == 'R':\n",
    "                for dist in range(int(i[1:])):\n",
    "                    cur_position[0] = cur_position[0]+1\n",
    "                    route.append(tuple(cur_position))\n",
    "            elif i[0] == 'L':\n",
    "                    cur_position[0] = cur_position[0]-1\n",
    "                    route.append(tuple(cur_position))\n",
    "            elif i[0] == 'U':\n",
    "                for dist in range(int(i[1:])):\n",
    "                    cur_position[1] = cur_position[1]+1\n",
    "                    route.append(tuple(cur_position))\n",
    "            elif i[0] == 'D':\n",
    "                for dist in range(int(i[1:])):\n",
    "                    cur_position[1] = cur_position[1]-1\n",
    "                    route.append(tuple(cur_position))\n",
    "        return route\n",
    "    def dist_manhattan(self, a, b):\n",
    "        return abs(a[0] - b[0]) + abs(a[1] - b[1])\n",
    "    def get_collisions(self, wires):\n",
    "        #only good for 2 wires for now\n",
    "        return list(set(wires[0]).intersection(set(wires[1])))\n",
    "    def closest_collision(self):\n",
    "        best_dist = 9999999999999999\n",
    "        best_position = (0,0)\n",
    "        for point in self.collisions:\n",
    "            dist = self.dist_manhattan(point, (0,0))\n",
    "            if dist <= best_dist:\n",
    "                best_dist = dist\n",
    "                best_point = point\n",
    "        return (best_dist, best_point)\n",
    "\n",
    "t = wiring(example0)\n",
    "print(\"Distance: {}\\nPoint: {}\".format(*t.closest_collision()))"
   ]
  }
 ],
 "metadata": {
  "kernelspec": {
   "display_name": "Python 3",
   "language": "python",
   "name": "python3"
  },
  "language_info": {
   "codemirror_mode": {
    "name": "ipython",
    "version": 3
   },
   "file_extension": ".py",
   "mimetype": "text/x-python",
   "name": "python",
   "nbconvert_exporter": "python",
   "pygments_lexer": "ipython3",
   "version": "3.7.5"
  }
 },
 "nbformat": 4,
 "nbformat_minor": 2
}
