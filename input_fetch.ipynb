{
 "cells": [
  {
   "cell_type": "code",
   "execution_count": 12,
   "metadata": {},
   "outputs": [],
   "source": [
    "import os\n",
    "import requests\n",
    "from sys import argv\n",
    "from sys import exit as sexit"
   ]
  },
  {
   "cell_type": "code",
   "execution_count": 32,
   "metadata": {},
   "outputs": [],
   "source": [
    "class input_fetch():\n",
    "    def __init__(self, args):\n",
    "        self.args = args\n",
    "        self.url = \"\"\n",
    "        self.headers = \"\"\n",
    "        self.base_url = \"https://adventofcode.com/\"\n",
    "        self.arg_check()\n",
    "        self.fetch(self.url)\n",
    "    def arg_check(self):\n",
    "        if len(self.args) != 4:\n",
    "            print(\"Must give args: $session $year $day\")\n",
    "            sexit(2)\n",
    "        else:\n",
    "            self.year = self.args[2]\n",
    "            self.day = self.args[3]\n",
    "            self.headers = {'Cookie': 'session={}'.format(self.args[1])}\n",
    "            self.url = \"{}{}/day/{}/input\".format(self.base_url,\n",
    "                                        self.year,\n",
    "                                        self.day\n",
    "                                       )\n",
    "            print(self.url)\n",
    "    def fetch(self, url):\n",
    "        r = requests.get(url, headers=self.headers)\n",
    "        self.write_out(r.text)\n",
    "    def write_out(self, day_input):\n",
    "        with open(\"./{}/day_{}_input.txt\".format(self.year, self.day), \"w\") as f:\n",
    "            f.write(day_input)"
   ]
  },
  {
   "cell_type": "code",
   "execution_count": 30,
   "metadata": {},
   "outputs": [
    {
     "name": "stdout",
     "output_type": "stream",
     "text": [
      "https://adventofcode.com/2019/day/1/input\n"
     ]
    }
   ],
   "source": [
    "if __name__ == \"__main__\":\n",
    "  input_fetch(argv)"
   ]
  },
  {
   "cell_type": "code",
   "execution_count": null,
   "metadata": {},
   "outputs": [],
   "source": []
  }
 ],
 "metadata": {
  "kernelspec": {
   "display_name": "Python 3",
   "language": "python",
   "name": "python3"
  },
  "language_info": {
   "codemirror_mode": {
    "name": "ipython",
    "version": 3
   },
   "file_extension": ".py",
   "mimetype": "text/x-python",
   "name": "python",
   "nbconvert_exporter": "python",
   "pygments_lexer": "ipython3",
   "version": "3.7.5"
  }
 },
 "nbformat": 4,
 "nbformat_minor": 2
}
